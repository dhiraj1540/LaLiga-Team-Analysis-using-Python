{
 "cells": [
  {
   "cell_type": "markdown",
   "metadata": {},
   "source": [
    "Import required packages"
   ]
  },
  {
   "cell_type": "code",
   "execution_count": 1,
   "metadata": {},
   "outputs": [],
   "source": [
    "import numpy as np\n",
    "import pandas as pd\n",
    "import warnings\n",
    "warnings.filterwarnings('ignore')"
   ]
  },
  {
   "cell_type": "markdown",
   "metadata": {},
   "source": [
    "1. Read the Dataset and replace dashes (-) with 0."
   ]
  },
  {
   "cell_type": "code",
   "execution_count": 2,
   "metadata": {},
   "outputs": [],
   "source": [
    "# Reading dataset without empty row (1st).\n",
    "laliga = pd.read_csv(\"Laliga.csv\",skiprows=[0])\n",
    "#laliga.head(10)#laliga.info()#laliga.describe(include='all').transpose()"
   ]
  },
  {
   "cell_type": "code",
   "execution_count": 3,
   "metadata": {},
   "outputs": [],
   "source": [
    "# Replacing dashaes with 0.\n",
    "laliga.replace(to_replace='-',value=0,inplace=True)\n",
    "#laliga.head(10)"
   ]
  },
  {
   "cell_type": "markdown",
   "metadata": {},
   "source": [
    "2. List of teams that have started playing between 1930-1980"
   ]
  },
  {
   "cell_type": "code",
   "execution_count": 12,
   "metadata": {},
   "outputs": [
    {
     "data": {
      "text/html": [
       "<div>\n",
       "<style scoped>\n",
       "    .dataframe tbody tr th:only-of-type {\n",
       "        vertical-align: middle;\n",
       "    }\n",
       "\n",
       "    .dataframe tbody tr th {\n",
       "        vertical-align: top;\n",
       "    }\n",
       "\n",
       "    .dataframe thead th {\n",
       "        text-align: right;\n",
       "    }\n",
       "</style>\n",
       "<table border=\"1\" class=\"dataframe\">\n",
       "  <thead>\n",
       "    <tr style=\"text-align: right;\">\n",
       "      <th></th>\n",
       "      <th>Team</th>\n",
       "      <th>Debut</th>\n",
       "    </tr>\n",
       "  </thead>\n",
       "  <tbody>\n",
       "    <tr>\n",
       "      <th>3</th>\n",
       "      <td>Valencia</td>\n",
       "      <td>1931</td>\n",
       "    </tr>\n",
       "    <tr>\n",
       "      <th>5</th>\n",
       "      <td>Sevilla</td>\n",
       "      <td>1934</td>\n",
       "    </tr>\n",
       "    <tr>\n",
       "      <th>8</th>\n",
       "      <td>Zaragoza</td>\n",
       "      <td>1939</td>\n",
       "    </tr>\n",
       "    <tr>\n",
       "      <th>9</th>\n",
       "      <td>Real Betis</td>\n",
       "      <td>1932</td>\n",
       "    </tr>\n",
       "    <tr>\n",
       "      <th>10</th>\n",
       "      <td>Deportivo La Coruna</td>\n",
       "      <td>1941</td>\n",
       "    </tr>\n",
       "    <tr>\n",
       "      <th>11</th>\n",
       "      <td>Celta Vigo</td>\n",
       "      <td>1939</td>\n",
       "    </tr>\n",
       "    <tr>\n",
       "      <th>12</th>\n",
       "      <td>Valladolid</td>\n",
       "      <td>1948</td>\n",
       "    </tr>\n",
       "    <tr>\n",
       "      <th>14</th>\n",
       "      <td>Sporting Gijon</td>\n",
       "      <td>1944</td>\n",
       "    </tr>\n",
       "    <tr>\n",
       "      <th>15</th>\n",
       "      <td>Osasuna</td>\n",
       "      <td>1935</td>\n",
       "    </tr>\n",
       "    <tr>\n",
       "      <th>16</th>\n",
       "      <td>Malaga</td>\n",
       "      <td>1949</td>\n",
       "    </tr>\n",
       "    <tr>\n",
       "      <th>17</th>\n",
       "      <td>Oviedo</td>\n",
       "      <td>1933</td>\n",
       "    </tr>\n",
       "    <tr>\n",
       "      <th>18</th>\n",
       "      <td>Mallorca</td>\n",
       "      <td>1960</td>\n",
       "    </tr>\n",
       "    <tr>\n",
       "      <th>19</th>\n",
       "      <td>Las Palmas</td>\n",
       "      <td>1951</td>\n",
       "    </tr>\n",
       "    <tr>\n",
       "      <th>21</th>\n",
       "      <td>Granada</td>\n",
       "      <td>1941</td>\n",
       "    </tr>\n",
       "    <tr>\n",
       "      <th>22</th>\n",
       "      <td>Rayo Vallecano</td>\n",
       "      <td>1977</td>\n",
       "    </tr>\n",
       "    <tr>\n",
       "      <th>23</th>\n",
       "      <td>Elche</td>\n",
       "      <td>1959</td>\n",
       "    </tr>\n",
       "    <tr>\n",
       "      <th>25</th>\n",
       "      <td>Hercules</td>\n",
       "      <td>1935</td>\n",
       "    </tr>\n",
       "    <tr>\n",
       "      <th>26</th>\n",
       "      <td>Tenerife</td>\n",
       "      <td>1961</td>\n",
       "    </tr>\n",
       "    <tr>\n",
       "      <th>27</th>\n",
       "      <td>Murcia</td>\n",
       "      <td>1940</td>\n",
       "    </tr>\n",
       "    <tr>\n",
       "      <th>28</th>\n",
       "      <td>Alaves</td>\n",
       "      <td>1930</td>\n",
       "    </tr>\n",
       "    <tr>\n",
       "      <th>29</th>\n",
       "      <td>Levante</td>\n",
       "      <td>1963</td>\n",
       "    </tr>\n",
       "    <tr>\n",
       "      <th>30</th>\n",
       "      <td>Salamanca</td>\n",
       "      <td>1974</td>\n",
       "    </tr>\n",
       "    <tr>\n",
       "      <th>31</th>\n",
       "      <td>Sabadell</td>\n",
       "      <td>1943</td>\n",
       "    </tr>\n",
       "    <tr>\n",
       "      <th>32</th>\n",
       "      <td>Cadiz</td>\n",
       "      <td>1977</td>\n",
       "    </tr>\n",
       "    <tr>\n",
       "      <th>34</th>\n",
       "      <td>Castellon</td>\n",
       "      <td>1941</td>\n",
       "    </tr>\n",
       "    <tr>\n",
       "      <th>37</th>\n",
       "      <td>Cordoba</td>\n",
       "      <td>1962</td>\n",
       "    </tr>\n",
       "    <tr>\n",
       "      <th>39</th>\n",
       "      <td>Recreativo</td>\n",
       "      <td>1978</td>\n",
       "    </tr>\n",
       "    <tr>\n",
       "      <th>40</th>\n",
       "      <td>Burgos CF</td>\n",
       "      <td>1971</td>\n",
       "    </tr>\n",
       "    <tr>\n",
       "      <th>41</th>\n",
       "      <td>Pontevedra</td>\n",
       "      <td>1963</td>\n",
       "    </tr>\n",
       "    <tr>\n",
       "      <th>46</th>\n",
       "      <td>Gimnastic</td>\n",
       "      <td>1947</td>\n",
       "    </tr>\n",
       "    <tr>\n",
       "      <th>49</th>\n",
       "      <td>Alcoyano</td>\n",
       "      <td>1945</td>\n",
       "    </tr>\n",
       "    <tr>\n",
       "      <th>50</th>\n",
       "      <td>Jaen</td>\n",
       "      <td>1953</td>\n",
       "    </tr>\n",
       "    <tr>\n",
       "      <th>52</th>\n",
       "      <td>AD Almeria</td>\n",
       "      <td>1979</td>\n",
       "    </tr>\n",
       "    <tr>\n",
       "      <th>54</th>\n",
       "      <td>Lleida</td>\n",
       "      <td>1950</td>\n",
       "    </tr>\n",
       "    <tr>\n",
       "      <th>57</th>\n",
       "      <td>Condal</td>\n",
       "      <td>1956</td>\n",
       "    </tr>\n",
       "    <tr>\n",
       "      <th>58</th>\n",
       "      <td>Atletico Tetuan</td>\n",
       "      <td>1951</td>\n",
       "    </tr>\n",
       "    <tr>\n",
       "      <th>59</th>\n",
       "      <td>Cultural Leonesa</td>\n",
       "      <td>1955</td>\n",
       "    </tr>\n",
       "  </tbody>\n",
       "</table>\n",
       "</div>"
      ],
      "text/plain": [
       "                   Team  Debut\n",
       "3              Valencia   1931\n",
       "5               Sevilla   1934\n",
       "8              Zaragoza   1939\n",
       "9            Real Betis   1932\n",
       "10  Deportivo La Coruna   1941\n",
       "11           Celta Vigo   1939\n",
       "12           Valladolid   1948\n",
       "14       Sporting Gijon   1944\n",
       "15              Osasuna   1935\n",
       "16               Malaga   1949\n",
       "17               Oviedo   1933\n",
       "18             Mallorca   1960\n",
       "19           Las Palmas   1951\n",
       "21              Granada   1941\n",
       "22       Rayo Vallecano   1977\n",
       "23                Elche   1959\n",
       "25             Hercules   1935\n",
       "26             Tenerife   1961\n",
       "27               Murcia   1940\n",
       "28               Alaves   1930\n",
       "29              Levante   1963\n",
       "30            Salamanca   1974\n",
       "31             Sabadell   1943\n",
       "32                Cadiz   1977\n",
       "34            Castellon   1941\n",
       "37              Cordoba   1962\n",
       "39           Recreativo   1978\n",
       "40            Burgos CF   1971\n",
       "41           Pontevedra   1963\n",
       "46            Gimnastic   1947\n",
       "49             Alcoyano   1945\n",
       "50                 Jaen   1953\n",
       "52           AD Almeria   1979\n",
       "54               Lleida   1950\n",
       "57               Condal   1956\n",
       "58      Atletico Tetuan   1951\n",
       "59     Cultural Leonesa   1955"
      ]
     },
     "execution_count": 12,
     "metadata": {},
     "output_type": "execute_result"
    }
   ],
   "source": [
    "#Check type of the column Debut & create a sub data frame for teams and debut year.\n",
    "#print(laliga['Debut'].dtype)\n",
    "teams = laliga[['Team','Debut']]\n",
    "# Extract first 4 characters from Debut since Debut values are expressed in year-year form. \n",
    "teams['Debut']=teams['Debut'].str[:4]\n",
    "\n",
    "#Convert Debut datatype from object to integer to be able to do algebraic operations.\n",
    "teams['Debut'] = teams['Debut'].astype(str).astype('int64')\n",
    "#teams['Debut'].dtype\n",
    "teams[(teams.Debut>=1930) & (teams.Debut<=1980)]\n"
   ]
  },
  {
   "cell_type": "markdown",
   "metadata": {},
   "source": [
    "3. Print the list of teams which came Top 5 in terms of points"
   ]
  },
  {
   "cell_type": "code",
   "execution_count": 27,
   "metadata": {},
   "outputs": [
    {
     "name": "stdout",
     "output_type": "stream",
     "text": [
      "            Team  Points\n",
      "     Real Madrid    4385\n",
      "       Barcelona    4262\n",
      " Atletico Madrid    3442\n",
      "        Valencia    3386\n",
      " Athletic Bilbao    3368\n"
     ]
    }
   ],
   "source": [
    "#Convert Points' data type to int\n",
    "laliga['Points']=laliga['Points'].astype('int64')\n",
    "# Top 5 teams in terms of points\n",
    "print(laliga[['Team','Points']].sort_values('Points',ascending=False).head(n=5).to_string(index=False))"
   ]
  },
  {
   "cell_type": "markdown",
   "metadata": {},
   "source": [
    "4. Write a function with name “Goal_diff_count” which should return all the teams with their Goal Differences. Using the same function, find the team which has maximum and minimum goal difference"
   ]
  },
  {
   "cell_type": "code",
   "execution_count": 17,
   "metadata": {},
   "outputs": [],
   "source": [
    "# Using if statement so function accepts max/min functions as arguments but return all values if no \n",
    "# arguments are provided. \n",
    "def goal_diff_count(x='all'):\n",
    "    laliga[['GoalsFor','GoalsAgainst']] = laliga[['GoalsFor','GoalsAgainst']].astype('int64')\n",
    "    goal_diff = laliga[['Team','GoalsFor','GoalsAgainst']]\n",
    "    goal_diff['goals'] = goal_diff['GoalsFor'] - goal_diff['GoalsAgainst']\n",
    "    goal_diff.drop(['GoalsFor','GoalsAgainst'],axis=1,inplace=True)\n",
    "    if x=='all':\n",
    "        return print(goal_diff.to_string(index=False))\n",
    "    else:\n",
    "        conditional_values = goal_diff[goal_diff.goals==x(goal_diff.goals)]\n",
    "        #goal_diff.head()\n",
    "        return print(conditional_values.to_string(index=False))"
   ]
  },
  {
   "cell_type": "code",
   "execution_count": 18,
   "metadata": {},
   "outputs": [
    {
     "name": "stdout",
     "output_type": "stream",
     "text": [
      "                Team  goals\n",
      "         Real Madrid   2807\n",
      "           Barcelona   2786\n",
      "     Atletico Madrid   1225\n",
      "            Valencia    929\n",
      "     Athletic Bilbao    931\n",
      "             Sevilla    307\n",
      "            Espanyol   -280\n",
      "       Real Sociedad     -2\n",
      "            Zaragoza   -164\n",
      "          Real Betis   -333\n",
      " Deportivo La Coruna   -136\n",
      "          Celta Vigo   -346\n",
      "          Valladolid   -413\n",
      "    Racing Santander   -525\n",
      "      Sporting Gijon   -399\n",
      "             Osasuna   -334\n",
      "              Malaga   -342\n",
      "              Oviedo   -309\n",
      "            Mallorca   -189\n",
      "          Las Palmas   -399\n",
      "          Villarreal    103\n",
      "             Granada   -338\n",
      "      Rayo Vallecano   -328\n",
      "               Elche   -272\n",
      "              Getafe   -113\n",
      "            Hercules   -334\n",
      "            Tenerife   -125\n",
      "              Murcia   -385\n",
      "              Alaves   -165\n",
      "             Levante   -202\n",
      "           Salamanca   -159\n",
      "            Sabadell   -228\n",
      "               Cadiz   -269\n",
      "            Logrones   -198\n",
      "           Castellon   -169\n",
      "            Albacete    -90\n",
      "             Almeria   -122\n",
      "             Cordoba   -145\n",
      "          Compostela    -42\n",
      "          Recreativo    -94\n",
      "           Burgos CF    -94\n",
      "          Pontevedra    -56\n",
      "            Numancia    -98\n",
      "               Eibar    -28\n",
      "              Arenas    -81\n",
      "         Real Burgos    -38\n",
      "           Gimnastic   -114\n",
      "         Extremadura    -55\n",
      "              Merida    -45\n",
      "            Alcoyano   -107\n",
      "                Jaen    -62\n",
      "          Real Union    -31\n",
      "          AD Almeria    -45\n",
      "              Europa    -34\n",
      "              Lleida   -112\n",
      "             Leganes    -19\n",
      "               Xerez    -28\n",
      "              Condal    -20\n",
      "     Atletico Tetuan    -34\n",
      "    Cultural Leonesa    -31\n",
      "              Girona      0\n"
     ]
    }
   ],
   "source": [
    "# Using the goal_diff_count function\n",
    "# Print all teams with their goal differences.\n",
    "goal_diff_count()"
   ]
  },
  {
   "cell_type": "code",
   "execution_count": 19,
   "metadata": {},
   "outputs": [
    {
     "name": "stdout",
     "output_type": "stream",
     "text": [
      "        Team  goals\n",
      " Real Madrid   2807\n"
     ]
    }
   ],
   "source": [
    "# Print team with maximum goal differences.\n",
    "goal_diff_count(max)"
   ]
  },
  {
   "cell_type": "code",
   "execution_count": 20,
   "metadata": {},
   "outputs": [
    {
     "name": "stdout",
     "output_type": "stream",
     "text": [
      "             Team  goals\n",
      " Racing Santander   -525\n"
     ]
    }
   ],
   "source": [
    "# Print team with minimum goal differences.\n",
    "goal_diff_count(min)"
   ]
  },
  {
   "cell_type": "markdown",
   "metadata": {},
   "source": [
    "5. Create a new column with name “Winning Percent” and append it to the data set"
   ]
  },
  {
   "cell_type": "code",
   "execution_count": 25,
   "metadata": {},
   "outputs": [
    {
     "name": "stdout",
     "output_type": "stream",
     "text": [
      "            Team  Winning Percent\n",
      "     Real Madrid        59.630702\n",
      "       Barcelona        57.241130\n",
      " Atletico Madrid        47.475134\n",
      "        Valencia        44.557057\n",
      " Athletic Bilbao        43.772629\n"
     ]
    }
   ],
   "source": [
    "# Convert datatypes of 'GamesPlayed' & 'GamesWon' in the data frame.\n",
    "laliga[['GamesPlayed','GamesWon']]=laliga[['GamesPlayed','GamesWon']].astype('int64')\n",
    "# Append 'Winning Percent' column in the dataframe.\n",
    "laliga['Winning Percent'] = np.where(laliga['GamesPlayed']>0,(laliga['GamesWon']/laliga['GamesPlayed'])*100,0) \n",
    "# Print top 5 teams by winning percentage.\n",
    "print((laliga[['Team','Winning Percent']].head()).to_string(index=False))"
   ]
  },
  {
   "cell_type": "markdown",
   "metadata": {},
   "source": [
    "6. Group teams based on their “Best position” and print the sum of their points for all positions"
   ]
  },
  {
   "cell_type": "code",
   "execution_count": 11,
   "metadata": {},
   "outputs": [
    {
     "name": "stdout",
     "output_type": "stream",
     "text": [
      " BestPosition  Points\n",
      "            1   27933\n",
      "            2    6904\n",
      "            3    5221\n",
      "            4    6563\n",
      "            5    1884\n",
      "            6    2113\n",
      "            7    1186\n",
      "            8    1134\n",
      "            9      96\n",
      "           10     450\n",
      "           11     445\n",
      "           12     511\n",
      "           14      71\n",
      "           15      14\n",
      "           16      81\n",
      "           17     266\n",
      "           19      81\n",
      "           20      34\n"
     ]
    }
   ],
   "source": [
    "# Group by data frame by 'BestPosition' and take the sum of other columns.\n",
    "best_position = laliga.groupby('BestPosition').sum().reset_index()\n",
    "# Print sum of Points for all positions.\n",
    "print(best_position[['BestPosition','Points']].to_string(index=False))"
   ]
  }
 ],
 "metadata": {
  "kernelspec": {
   "display_name": "Python 3",
   "language": "python",
   "name": "python3"
  },
  "language_info": {
   "codemirror_mode": {
    "name": "ipython",
    "version": 3
   },
   "file_extension": ".py",
   "mimetype": "text/x-python",
   "name": "python",
   "nbconvert_exporter": "python",
   "pygments_lexer": "ipython3",
   "version": "3.7.3"
  }
 },
 "nbformat": 4,
 "nbformat_minor": 2
}
